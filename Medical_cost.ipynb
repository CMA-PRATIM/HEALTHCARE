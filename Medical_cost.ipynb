{
 "cells": [
  {
   "cell_type": "code",
   "execution_count": 149,
   "id": "27fe95fa-eea3-4f44-b0e9-af4e309ce103",
   "metadata": {},
   "outputs": [],
   "source": [
    "import pandas as pd\n",
    "import matplotlib.pyplot as plt\n",
    "import numpy as np\n",
    "import seaborn as sns"
   ]
  },
  {
   "cell_type": "code",
   "execution_count": 150,
   "id": "469269a6-4025-442a-acf0-3efea9440df6",
   "metadata": {},
   "outputs": [
    {
     "data": {
      "text/html": [
       "<div>\n",
       "<style scoped>\n",
       "    .dataframe tbody tr th:only-of-type {\n",
       "        vertical-align: middle;\n",
       "    }\n",
       "\n",
       "    .dataframe tbody tr th {\n",
       "        vertical-align: top;\n",
       "    }\n",
       "\n",
       "    .dataframe thead th {\n",
       "        text-align: right;\n",
       "    }\n",
       "</style>\n",
       "<table border=\"1\" class=\"dataframe\">\n",
       "  <thead>\n",
       "    <tr style=\"text-align: right;\">\n",
       "      <th></th>\n",
       "      <th>age</th>\n",
       "      <th>sex</th>\n",
       "      <th>bmi</th>\n",
       "      <th>children</th>\n",
       "      <th>smoker</th>\n",
       "      <th>region</th>\n",
       "      <th>charges</th>\n",
       "    </tr>\n",
       "  </thead>\n",
       "  <tbody>\n",
       "    <tr>\n",
       "      <th>0</th>\n",
       "      <td>19</td>\n",
       "      <td>female</td>\n",
       "      <td>27.900</td>\n",
       "      <td>0</td>\n",
       "      <td>yes</td>\n",
       "      <td>southwest</td>\n",
       "      <td>16884.92400</td>\n",
       "    </tr>\n",
       "    <tr>\n",
       "      <th>1</th>\n",
       "      <td>18</td>\n",
       "      <td>male</td>\n",
       "      <td>33.770</td>\n",
       "      <td>1</td>\n",
       "      <td>no</td>\n",
       "      <td>southeast</td>\n",
       "      <td>1725.55230</td>\n",
       "    </tr>\n",
       "    <tr>\n",
       "      <th>2</th>\n",
       "      <td>28</td>\n",
       "      <td>male</td>\n",
       "      <td>33.000</td>\n",
       "      <td>3</td>\n",
       "      <td>no</td>\n",
       "      <td>southeast</td>\n",
       "      <td>4449.46200</td>\n",
       "    </tr>\n",
       "    <tr>\n",
       "      <th>3</th>\n",
       "      <td>33</td>\n",
       "      <td>male</td>\n",
       "      <td>22.705</td>\n",
       "      <td>0</td>\n",
       "      <td>no</td>\n",
       "      <td>northwest</td>\n",
       "      <td>21984.47061</td>\n",
       "    </tr>\n",
       "    <tr>\n",
       "      <th>4</th>\n",
       "      <td>32</td>\n",
       "      <td>male</td>\n",
       "      <td>28.880</td>\n",
       "      <td>0</td>\n",
       "      <td>no</td>\n",
       "      <td>northwest</td>\n",
       "      <td>3866.85520</td>\n",
       "    </tr>\n",
       "  </tbody>\n",
       "</table>\n",
       "</div>"
      ],
      "text/plain": [
       "   age     sex     bmi  children smoker     region      charges\n",
       "0   19  female  27.900         0    yes  southwest  16884.92400\n",
       "1   18    male  33.770         1     no  southeast   1725.55230\n",
       "2   28    male  33.000         3     no  southeast   4449.46200\n",
       "3   33    male  22.705         0     no  northwest  21984.47061\n",
       "4   32    male  28.880         0     no  northwest   3866.85520"
      ]
     },
     "execution_count": 150,
     "metadata": {},
     "output_type": "execute_result"
    }
   ],
   "source": [
    "df=pd.read_csv(\"medical.csv\")\n",
    "df.head()"
   ]
  },
  {
   "cell_type": "code",
   "execution_count": 151,
   "id": "420b6ddf-2ce5-40d4-a977-cb8e0ab072a0",
   "metadata": {},
   "outputs": [
    {
     "data": {
      "text/plain": [
       "age         0\n",
       "sex         0\n",
       "bmi         0\n",
       "children    0\n",
       "smoker      0\n",
       "region      0\n",
       "charges     0\n",
       "dtype: int64"
      ]
     },
     "execution_count": 151,
     "metadata": {},
     "output_type": "execute_result"
    }
   ],
   "source": [
    "df.isnull().sum()"
   ]
  },
  {
   "cell_type": "code",
   "execution_count": 152,
   "id": "9cfc70c4-9596-4120-80f2-9fc093dad515",
   "metadata": {},
   "outputs": [],
   "source": [
    "cat=df[[\"sex\",\"smoker\",\"region\"]]"
   ]
  },
  {
   "cell_type": "code",
   "execution_count": 153,
   "id": "06453e2a-b5c2-48bc-9b37-769e08f57c41",
   "metadata": {},
   "outputs": [
    {
     "data": {
      "text/plain": [
       "Index(['age', 'bmi', 'children', 'charges', 'sex_female', 'sex_male',\n",
       "       'smoker_no', 'smoker_yes', 'region_northeast', 'region_northwest',\n",
       "       'region_southeast', 'region_southwest'],\n",
       "      dtype='object')"
      ]
     },
     "execution_count": 153,
     "metadata": {},
     "output_type": "execute_result"
    }
   ],
   "source": [
    "df1=pd.get_dummies(df,list(cat.columns))\n",
    "df1.columns"
   ]
  },
  {
   "cell_type": "code",
   "execution_count": 154,
   "id": "9e8d6cf0-0f4b-480a-9d96-cef640b63e73",
   "metadata": {},
   "outputs": [],
   "source": [
    "cat2=df1[['sex_female', 'sex_male',\n",
    "       'smoker_no', 'smoker_yes', 'region_northeast', 'region_northwest',\n",
    "       'region_southeast', 'region_southwest']]"
   ]
  },
  {
   "cell_type": "code",
   "execution_count": 155,
   "id": "a1677e43-41a6-4e0e-940f-8ebfb5922ffe",
   "metadata": {},
   "outputs": [],
   "source": [
    "l1=list(cat2.columns)"
   ]
  },
  {
   "cell_type": "code",
   "execution_count": 156,
   "id": "9bf4a2da-36e8-444e-8981-f7a0f4e14ce4",
   "metadata": {},
   "outputs": [
    {
     "data": {
      "text/plain": [
       "['sex_female',\n",
       " 'sex_male',\n",
       " 'smoker_no',\n",
       " 'smoker_yes',\n",
       " 'region_northeast',\n",
       " 'region_northwest',\n",
       " 'region_southeast',\n",
       " 'region_southwest']"
      ]
     },
     "execution_count": 156,
     "metadata": {},
     "output_type": "execute_result"
    }
   ],
   "source": [
    "l1"
   ]
  },
  {
   "cell_type": "code",
   "execution_count": 157,
   "id": "1a06720c-241e-46d8-85e0-3c81714978a7",
   "metadata": {},
   "outputs": [],
   "source": [
    "from scipy.stats import f_oneway\n",
    "from statsmodels.formula.api import ols\n",
    "import statsmodels.api as sm"
   ]
  },
  {
   "cell_type": "code",
   "execution_count": 158,
   "id": "ff94c5bc-2bfd-4132-9521-a1243c15ba29",
   "metadata": {},
   "outputs": [
    {
     "name": "stdout",
     "output_type": "stream",
     "text": [
      "['sex_female', 'sex_male', 'smoker_no', 'smoker_yes', 'region_southeast']\n"
     ]
    }
   ],
   "source": [
    "l2=[]\n",
    "for i in range(0,len(cat2.columns)):\n",
    "    pred=cat2.columns[i]\n",
    "    new=ols(\"charges~\"+cat2.columns[i],data=df1).fit()\n",
    "    an=sm.stats.anova_lm(new,typ=2)\n",
    "    \n",
    "    if an.loc[pred][\"PR(>F)\"]<0.05:\n",
    "        l2.append(pred)\n",
    "        \n",
    "        \n",
    "print(l2)"
   ]
  },
  {
   "cell_type": "code",
   "execution_count": 159,
   "id": "68c0e032-35af-4445-8529-778cb552011d",
   "metadata": {},
   "outputs": [],
   "source": [
    "cont=df1[['age', 'bmi', 'children', 'charges']]"
   ]
  },
  {
   "cell_type": "code",
   "execution_count": 160,
   "id": "bbfe57e4-764d-4ee5-b684-d98c9e9433d8",
   "metadata": {},
   "outputs": [
    {
     "data": {
      "image/png": "[encoded data removed]",
      "text/plain": [
       "<Figure size 1296x504 with 2 Axes>"
      ]
     },
     "metadata": {
      "needs_background": "light"
     },
     "output_type": "display_data"
    }
   ],
   "source": [
    "plt.figure(figsize=(18,7))\n",
    "sns.heatmap(df1[['age', 'bmi', 'children', 'charges']].corr(),annot=True)\n",
    "plt.title(\"Heatmap Showing Correlation Coeffecient\")\n",
    "\n",
    "plt.show()"
   ]
  },
  {
   "cell_type": "code",
   "execution_count": 161,
   "id": "d76b067a-7c2c-48d8-b25e-e4a7cbdf8f80",
   "metadata": {},
   "outputs": [
    {
     "name": "stdout",
     "output_type": "stream",
     "text": [
      "             0         1    2         3\n",
      "0     0.021739  0.321227  0.0  0.251611\n",
      "1     0.000000  0.479150  0.2  0.009636\n",
      "2     0.217391  0.458434  0.6  0.053115\n",
      "3     0.326087  0.181464  0.0  0.333010\n",
      "4     0.304348  0.347592  0.0  0.043816\n",
      "...        ...       ...  ...       ...\n",
      "1333  0.695652  0.403820  0.6  0.151299\n",
      "1334  0.000000  0.429379  0.0  0.017305\n",
      "1335  0.000000  0.562012  0.0  0.008108\n",
      "1336  0.065217  0.264730  0.0  0.014144\n",
      "1337  0.934783  0.352704  0.0  0.447249\n",
      "\n",
      "[1338 rows x 4 columns]\n"
     ]
    }
   ],
   "source": [
    "from sklearn.preprocessing import MinMaxScaler\n",
    "sc=MinMaxScaler()\n",
    "cont_sc=sc.fit_transform(cont)\n",
    "print(pd.DataFrame(cont_sc))"
   ]
  },
  {
   "cell_type": "code",
   "execution_count": 162,
   "id": "f923f8a4-27bf-43a6-8a12-93eca8e9cc89",
   "metadata": {},
   "outputs": [],
   "source": [
    "df1[\"age\"]=pd.DataFrame(cont_sc)[0]\n",
    "df1[\"bmi\"]=pd.DataFrame(cont_sc)[1]\n",
    "df1[\"children\"]=pd.DataFrame(cont_sc)[2]\n",
    "df1[\"charges\"]=pd.DataFrame(cont_sc)[3]"
   ]
  },
  {
   "cell_type": "code",
   "execution_count": 163,
   "id": "d5802ace-410e-4137-b794-33ddf3cd6584",
   "metadata": {},
   "outputs": [
    {
     "data": {
      "image/png": "[encoded data removed]",
      "text/plain": [
       "<Figure size 1296x504 with 2 Axes>"
      ]
     },
     "metadata": {
      "needs_background": "light"
     },
     "output_type": "display_data"
    }
   ],
   "source": [
    "plt.figure(figsize=(18,7))\n",
    "sns.heatmap(df1[['age', 'bmi', 'children', 'charges']].corr(),annot=True)\n",
    "plt.title(\"Heatmap Showing Correlation Coeffecient After Scaling\")\n",
    "\n",
    "plt.show()"
   ]
  },
  {
   "cell_type": "code",
   "execution_count": 164,
   "id": "ac24adc5-421f-4629-ace7-6ae92853166a",
   "metadata": {},
   "outputs": [
    {
     "data": {
      "text/html": [
       "<div>\n",
       "<style scoped>\n",
       "    .dataframe tbody tr th:only-of-type {\n",
       "        vertical-align: middle;\n",
       "    }\n",
       "\n",
       "    .dataframe tbody tr th {\n",
       "        vertical-align: top;\n",
       "    }\n",
       "\n",
       "    .dataframe thead th {\n",
       "        text-align: right;\n",
       "    }\n",
       "</style>\n",
       "<table border=\"1\" class=\"dataframe\">\n",
       "  <thead>\n",
       "    <tr style=\"text-align: right;\">\n",
       "      <th></th>\n",
       "      <th>age</th>\n",
       "      <th>bmi</th>\n",
       "      <th>children</th>\n",
       "      <th>charges</th>\n",
       "    </tr>\n",
       "  </thead>\n",
       "  <tbody>\n",
       "    <tr>\n",
       "      <th>0</th>\n",
       "      <td>0.021739</td>\n",
       "      <td>0.321227</td>\n",
       "      <td>0.0</td>\n",
       "      <td>0.251611</td>\n",
       "    </tr>\n",
       "    <tr>\n",
       "      <th>1</th>\n",
       "      <td>0.000000</td>\n",
       "      <td>0.479150</td>\n",
       "      <td>0.2</td>\n",
       "      <td>0.009636</td>\n",
       "    </tr>\n",
       "    <tr>\n",
       "      <th>2</th>\n",
       "      <td>0.217391</td>\n",
       "      <td>0.458434</td>\n",
       "      <td>0.6</td>\n",
       "      <td>0.053115</td>\n",
       "    </tr>\n",
       "    <tr>\n",
       "      <th>3</th>\n",
       "      <td>0.326087</td>\n",
       "      <td>0.181464</td>\n",
       "      <td>0.0</td>\n",
       "      <td>0.333010</td>\n",
       "    </tr>\n",
       "    <tr>\n",
       "      <th>4</th>\n",
       "      <td>0.304348</td>\n",
       "      <td>0.347592</td>\n",
       "      <td>0.0</td>\n",
       "      <td>0.043816</td>\n",
       "    </tr>\n",
       "    <tr>\n",
       "      <th>...</th>\n",
       "      <td>...</td>\n",
       "      <td>...</td>\n",
       "      <td>...</td>\n",
       "      <td>...</td>\n",
       "    </tr>\n",
       "    <tr>\n",
       "      <th>1333</th>\n",
       "      <td>0.695652</td>\n",
       "      <td>0.403820</td>\n",
       "      <td>0.6</td>\n",
       "      <td>0.151299</td>\n",
       "    </tr>\n",
       "    <tr>\n",
       "      <th>1334</th>\n",
       "      <td>0.000000</td>\n",
       "      <td>0.429379</td>\n",
       "      <td>0.0</td>\n",
       "      <td>0.017305</td>\n",
       "    </tr>\n",
       "    <tr>\n",
       "      <th>1335</th>\n",
       "      <td>0.000000</td>\n",
       "      <td>0.562012</td>\n",
       "      <td>0.0</td>\n",
       "      <td>0.008108</td>\n",
       "    </tr>\n",
       "    <tr>\n",
       "      <th>1336</th>\n",
       "      <td>0.065217</td>\n",
       "      <td>0.264730</td>\n",
       "      <td>0.0</td>\n",
       "      <td>0.014144</td>\n",
       "    </tr>\n",
       "    <tr>\n",
       "      <th>1337</th>\n",
       "      <td>0.934783</td>\n",
       "      <td>0.352704</td>\n",
       "      <td>0.0</td>\n",
       "      <td>0.447249</td>\n",
       "    </tr>\n",
       "  </tbody>\n",
       "</table>\n",
       "<p>1338 rows × 4 columns</p>\n",
       "</div>"
      ],
      "text/plain": [
       "           age       bmi  children   charges\n",
       "0     0.021739  0.321227       0.0  0.251611\n",
       "1     0.000000  0.479150       0.2  0.009636\n",
       "2     0.217391  0.458434       0.6  0.053115\n",
       "3     0.326087  0.181464       0.0  0.333010\n",
       "4     0.304348  0.347592       0.0  0.043816\n",
       "...        ...       ...       ...       ...\n",
       "1333  0.695652  0.403820       0.6  0.151299\n",
       "1334  0.000000  0.429379       0.0  0.017305\n",
       "1335  0.000000  0.562012       0.0  0.008108\n",
       "1336  0.065217  0.264730       0.0  0.014144\n",
       "1337  0.934783  0.352704       0.0  0.447249\n",
       "\n",
       "[1338 rows x 4 columns]"
      ]
     },
     "execution_count": 164,
     "metadata": {},
     "output_type": "execute_result"
    }
   ],
   "source": [
    "df1[['age', 'bmi', 'children', 'charges']]"
   ]
  },
  {
   "cell_type": "code",
   "execution_count": 165,
   "id": "49832dfc-941f-45b4-af39-12200fa94375",
   "metadata": {},
   "outputs": [],
   "source": [
    "cont_isc=sc.inverse_transform(cont_sc)"
   ]
  },
  {
   "cell_type": "code",
   "execution_count": 166,
   "id": "be272174-3f3f-4cb5-8c17-69bc3e2f6f08",
   "metadata": {},
   "outputs": [
    {
     "name": "stdout",
     "output_type": "stream",
     "text": [
      "         0       1    2            3\n",
      "0     19.0  27.900  0.0  16884.92400\n",
      "1     18.0  33.770  1.0   1725.55230\n",
      "2     28.0  33.000  3.0   4449.46200\n",
      "3     33.0  22.705  0.0  21984.47061\n",
      "4     32.0  28.880  0.0   3866.85520\n",
      "...    ...     ...  ...          ...\n",
      "1333  50.0  30.970  3.0  10600.54830\n",
      "1334  18.0  31.920  0.0   2205.98080\n",
      "1335  18.0  36.850  0.0   1629.83350\n",
      "1336  21.0  25.800  0.0   2007.94500\n",
      "1337  61.0  29.070  0.0  29141.36030\n",
      "\n",
      "[1338 rows x 4 columns]\n"
     ]
    }
   ],
   "source": [
    "print(pd.DataFrame(cont_isc))"
   ]
  },
  {
   "cell_type": "code",
   "execution_count": 167,
   "id": "d49a5224-3c19-48ab-a58c-c98f4b41fa3e",
   "metadata": {},
   "outputs": [],
   "source": [
    "df1[\"age\"]=pd.DataFrame(cont_isc)[0]\n",
    "df1[\"bmi\"]=pd.DataFrame(cont_isc)[1]\n",
    "df1[\"children\"]=pd.DataFrame(cont_isc)[2]\n",
    "df1[\"charges\"]=pd.DataFrame(cont_isc)[3]"
   ]
  },
  {
   "cell_type": "code",
   "execution_count": 168,
   "id": "22c3e3ef-e046-41fd-b846-9eb302784521",
   "metadata": {},
   "outputs": [],
   "source": [
    "l3=[\"age\",\"bmi\",\"children\"]"
   ]
  },
  {
   "cell_type": "code",
   "execution_count": 169,
   "id": "66cf9a0d-3311-4fe1-972f-3510239c6c6a",
   "metadata": {},
   "outputs": [],
   "source": [
    "l3.extend(l1)"
   ]
  },
  {
   "cell_type": "code",
   "execution_count": 170,
   "id": "6c665f37-692c-4eed-a2a3-53fd741b09db",
   "metadata": {},
   "outputs": [
    {
     "data": {
      "text/plain": [
       "['age',\n",
       " 'bmi',\n",
       " 'children',\n",
       " 'sex_female',\n",
       " 'sex_male',\n",
       " 'smoker_no',\n",
       " 'smoker_yes',\n",
       " 'region_northeast',\n",
       " 'region_northwest',\n",
       " 'region_southeast',\n",
       " 'region_southwest']"
      ]
     },
     "execution_count": 170,
     "metadata": {},
     "output_type": "execute_result"
    }
   ],
   "source": [
    "l3"
   ]
  },
  {
   "cell_type": "code",
   "execution_count": 171,
   "id": "b8de06b7-829c-42bc-81e7-9ad1c7139cc0",
   "metadata": {},
   "outputs": [],
   "source": [
    "from sklearn.model_selection import train_test_split\n",
    "x=df1[l3]\n",
    "y=df1[\"charges\"]\n",
    "x_train,x_test,y_train,y_test=train_test_split(x,y,train_size=0.7,random_state=42)"
   ]
  },
  {
   "cell_type": "code",
   "execution_count": 172,
   "id": "98e9551c-d3aa-4942-856b-5023fa0fd4ee",
   "metadata": {},
   "outputs": [],
   "source": [
    "from sklearn.decomposition import PCA\n",
    "pca=PCA()\n",
    "pca.fit(x_train)\n",
    "pca_data=pca.transform(x_train)"
   ]
  },
  {
   "cell_type": "code",
   "execution_count": 173,
   "id": "fd71fccf-d072-41b6-b043-f884a17111b6",
   "metadata": {},
   "outputs": [],
   "source": [
    "per_var=np.round(pca.explained_variance_ratio_*100,decimals=1)"
   ]
  },
  {
   "cell_type": "code",
   "execution_count": 174,
   "id": "5deece12-5d47-4ac8-891e-f692195b326b",
   "metadata": {},
   "outputs": [],
   "source": [
    "loading_scores=pd.Series(pca.components_[0],index=x_train.columns)"
   ]
  },
  {
   "cell_type": "code",
   "execution_count": 175,
   "id": "0d494474-a91a-40f5-a296-da40d3012d83",
   "metadata": {},
   "outputs": [
    {
     "data": {
      "text/plain": [
       "age                 0.998479\n",
       "bmi                 0.054831\n",
       "children            0.005325\n",
       "smoker_no           0.001337\n",
       "smoker_yes          0.001337\n",
       "sex_female          0.000463\n",
       "sex_male            0.000463\n",
       "region_southwest    0.000460\n",
       "region_southeast    0.000409\n",
       "region_northeast    0.000400\n",
       "region_northwest    0.000348\n",
       "dtype: float64"
      ]
     },
     "execution_count": 175,
     "metadata": {},
     "output_type": "execute_result"
    }
   ],
   "source": [
    "loading_scores.abs().sort_values(ascending=False)"
   ]
  },
  {
   "cell_type": "markdown",
   "id": "500fd5d3-85ba-461c-8f8f-81c435683fad",
   "metadata": {},
   "source": [
    "# Although 'age', 'bmi' & 'children' does not have significant correlation coefficients, PCA shows that these three captures highest variation in the target variable 'charges'"
   ]
  },
  {
   "cell_type": "markdown",
   "id": "79a6b9d8-a7b1-4b9c-a213-cd6c45d50a20",
   "metadata": {},
   "source": [
    "# Selecting variables based on PCA scores & Anova test. Note that we have selected 'region_southeast' based on the Anova Test"
   ]
  },
  {
   "cell_type": "code",
   "execution_count": 208,
   "id": "83ad20d9-4515-49ec-aa51-9796d1e192cd",
   "metadata": {},
   "outputs": [],
   "source": [
    "l4=[\"age\",\"bmi\",\"children\",\"smoker_no\",\"sex_female\",\"region_southeast\"]\n",
    "x=df1[l4]\n",
    "y=df1[\"charges\"]\n",
    "x_train,x_test,y_train,y_test=train_test_split(x,y,train_size=0.8,random_state=12)"
   ]
  },
  {
   "cell_type": "code",
   "execution_count": 209,
   "id": "c259b586-1b8c-439c-89a6-68129582d082",
   "metadata": {},
   "outputs": [],
   "source": [
    "from sklearn.linear_model import LinearRegression\n",
    "from sklearn import metrics"
   ]
  },
  {
   "cell_type": "code",
   "execution_count": 210,
   "id": "5c61b992-b92a-43d3-86a1-e35b625e47b1",
   "metadata": {},
   "outputs": [
    {
     "data": {
      "text/plain": [
       "0.7079068884200326"
      ]
     },
     "execution_count": 210,
     "metadata": {},
     "output_type": "execute_result"
    }
   ],
   "source": [
    "lr=LinearRegression()\n",
    "lr.fit(x_train,y_train)\n",
    "y_pred=lr.predict(x_test)\n",
    "metrics.r2_score(y_test.values,y_pred)"
   ]
  },
  {
   "cell_type": "code",
   "execution_count": 196,
   "id": "025b4f9b-d46a-4972-951d-2c8b493d5d06",
   "metadata": {},
   "outputs": [],
   "source": [
    "from sklearn.ensemble import RandomForestRegressor\n",
    "rf=RandomForestRegressor(n_estimators=100,random_state=0)"
   ]
  },
  {
   "cell_type": "code",
   "execution_count": 211,
   "id": "f2294136-2bf9-4d5e-bfa4-0e63e95af9df",
   "metadata": {},
   "outputs": [
    {
     "data": {
      "text/plain": [
       "0.8138940681945712"
      ]
     },
     "execution_count": 211,
     "metadata": {},
     "output_type": "execute_result"
    }
   ],
   "source": [
    "rf.fit(x_train,y_train)\n",
    "ans=rf.predict(x_test)\n",
    "metrics.r2_score(y_test.values,ans)"
   ]
  }
 ],
 "metadata": {
  "kernelspec": {
   "display_name": "Python 3 (ipykernel)",
   "language": "python",
   "name": "python3"
  },
  "language_info": {
   "codemirror_mode": {
    "name": "ipython",
    "version": 3
   },
   "file_extension": ".py",
   "mimetype": "text/x-python",
   "name": "python",
   "nbconvert_exporter": "python",
   "pygments_lexer": "ipython3",
   "version": "3.9.12"
  }
 },
 "nbformat": 4,
 "nbformat_minor": 5
}
